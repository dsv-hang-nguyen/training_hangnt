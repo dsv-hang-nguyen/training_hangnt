{
 "cells": [
  {
   "cell_type": "code",
   "execution_count": 10,
   "metadata": {},
   "outputs": [],
   "source": [
    "import sys\n",
    "import pymysql\n",
    "import logging\n",
    "\"\"\"Config values.\"\"\"\n",
    "from os import environ"
   ]
  },
  {
   "cell_type": "code",
   "execution_count": 12,
   "metadata": {},
   "outputs": [],
   "source": [
    "class Database:\n",
    "    \"\"\"Database connection class.\"\"\"\n",
    "    def __init__(self, config):\n",
    "        self.host = config.db_host\n",
    "        self.username = config.db_user\n",
    "        self.password = config.db_password\n",
    "        self.port = config.db_port\n",
    "        self.dbname = config.db_name\n",
    "        self.conn = None\n",
    "    \"\"\"Database connection class.\"\"\"\n",
    "    def open_connection(self):\n",
    "        \"\"\"Connect to MySQL Database.\"\"\"\n",
    "        try:\n",
    "            if self.conn is None:\n",
    "                self.conn = pymysql.connect(self.host,\n",
    "                                            user=self.username,\n",
    "                                            passwd=self.password,\n",
    "                                            db=self.dbname,\n",
    "                                            connect_timeout=5)\n",
    "        except pymysql.MySQLError as e:\n",
    "            logging.error(e)\n",
    "            sys.exit()\n",
    "        finally:\n",
    "            logging.info('Connection opened successfully.')"
   ]
  },
  {
   "cell_type": "code",
   "execution_count": 13,
   "metadata": {},
   "outputs": [
    {
     "ename": "ImportError",
     "evalue": "No module named 'info_database'",
     "output_type": "error",
     "traceback": [
      "\u001b[0;31m---------------------------------------------------------------------------\u001b[0m",
      "\u001b[0;31mImportError\u001b[0m                               Traceback (most recent call last)",
      "\u001b[0;32m<ipython-input-13-998f53740e9a>\u001b[0m in \u001b[0;36m<module>\u001b[0;34m\u001b[0m\n\u001b[0;32m----> 1\u001b[0;31m \u001b[0;32mfrom\u001b[0m \u001b[0minfo_database\u001b[0m \u001b[0;32mimport\u001b[0m \u001b[0mConfig\u001b[0m\u001b[0;34m\u001b[0m\u001b[0m\n\u001b[0m\u001b[1;32m      2\u001b[0m \u001b[0mdb\u001b[0m \u001b[0;34m=\u001b[0m \u001b[0mDatabase\u001b[0m\u001b[0;34m(\u001b[0m\u001b[0mconfig\u001b[0m\u001b[0;34m)\u001b[0m\u001b[0;34m\u001b[0m\u001b[0m\n",
      "\u001b[0;31mImportError\u001b[0m: No module named 'info_database'"
     ]
    }
   ],
   "source": [
    "from info_database import Config\n",
    "db = Database(config)"
   ]
  },
  {
   "cell_type": "code",
   "execution_count": null,
   "metadata": {},
   "outputs": [],
   "source": []
  }
 ],
 "metadata": {
  "kernelspec": {
   "display_name": "Python 3",
   "language": "python",
   "name": "python3"
  },
  "language_info": {
   "codemirror_mode": {
    "name": "ipython",
    "version": 3
   },
   "file_extension": ".py",
   "mimetype": "text/x-python",
   "name": "python",
   "nbconvert_exporter": "python",
   "pygments_lexer": "ipython3",
   "version": "3.5.2"
  }
 },
 "nbformat": 4,
 "nbformat_minor": 4
}
